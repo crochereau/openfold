{
 "cells": [
  {
   "cell_type": "code",
   "execution_count": 21,
   "id": "e28263b8",
   "metadata": {},
   "outputs": [
    {
     "name": "stderr",
     "output_type": "stream",
     "text": [
      "UsageError: Line magic function `%cd#data/deepfri_ec/` not found.\n"
     ]
    }
   ],
   "source": [
    "%cd data/deepfri_ec/"
   ]
  },
  {
   "cell_type": "code",
   "execution_count": 23,
   "id": "29e6a8c8",
   "metadata": {},
   "outputs": [],
   "source": [
    "import glob\n",
    "from pathlib import Path\n",
    "import shutil"
   ]
  },
  {
   "cell_type": "code",
   "execution_count": 22,
   "id": "7bf725da",
   "metadata": {},
   "outputs": [
    {
     "name": "stdout",
     "output_type": "stream",
     "text": [
      "[Errno 2] No such file or directory: 'test'\n",
      "/data/cr226/openfold/data/deepfri_ec/test\n"
     ]
    }
   ],
   "source": [
    "%cd test"
   ]
  },
  {
   "cell_type": "code",
   "execution_count": 16,
   "id": "02ae62aa",
   "metadata": {},
   "outputs": [],
   "source": [
    "Path(\"fastas_below_150\").mkdir(parents=True, exist_ok=True)\n",
    "Path(\"fastas_above_150\").mkdir(parents=True, exist_ok=True)"
   ]
  },
  {
   "cell_type": "code",
   "execution_count": 27,
   "id": "313810ce",
   "metadata": {},
   "outputs": [],
   "source": [
    "for file in glob.glob('fastas/*.fasta'):\n",
    "\n",
    "    with open(file, 'r') as f:\n",
    "        lines = f.readlines()\n",
    "    seq = lines[1].strip()\n",
    "    l = len(seq)\n",
    "    \n",
    "    if l < 150:\n",
    "        shutil.copyfile(file, \"fastas_below_150/\" + Path(file).name)\n",
    "    else:\n",
    "        shutil.copyfile(file, \"fastas_above_150/\" + Path(file).name)"
   ]
  }
 ],
 "metadata": {
  "kernelspec": {
   "display_name": "Python 3 (ipykernel)",
   "language": "python",
   "name": "python3"
  },
  "language_info": {
   "codemirror_mode": {
    "name": "ipython",
    "version": 3
   },
   "file_extension": ".py",
   "mimetype": "text/x-python",
   "name": "python",
   "nbconvert_exporter": "python",
   "pygments_lexer": "ipython3",
   "version": "3.7.12"
  }
 },
 "nbformat": 4,
 "nbformat_minor": 5
}
