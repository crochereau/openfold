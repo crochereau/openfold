{
 "cells": [
  {
   "cell_type": "markdown",
   "id": "77e6320b",
   "metadata": {},
   "source": [
    "We want to reorganize fasta files in different directories, depending on sequence length. The goal is to set different chunk size (or None) depending on sequence length. <br>\n",
    "Chunks are mini-batches of the input sequence. For small sequences, ie sequences which are small enough for the GPU not to run out of memory, it's faster to get rid of chunks. <br>\n",
    "For longer sequences, we should set chunk_size to as large a value as possible. To be computationally efficient, we should find the optimal chunk size for different ranges of sequence length."
   ]
  },
  {
   "cell_type": "code",
   "execution_count": 1,
   "id": "3cbf0a3b",
   "metadata": {},
   "outputs": [],
   "source": [
    "import glob\n",
    "import os\n",
    "from pathlib import Path\n",
    "import shutil"
   ]
  },
  {
   "cell_type": "code",
   "execution_count": 5,
   "id": "99857c02",
   "metadata": {},
   "outputs": [
    {
     "name": "stdout",
     "output_type": "stream",
     "text": [
      "[Errno 2] No such file or directory: 'data/deepfri_ec/train/fastas/'\n",
      "/data/cr226/openfold/data/deepfri_ec/val/fastas\n"
     ]
    }
   ],
   "source": [
    "%cd data/deepfri_ec/train/fastas/"
   ]
  },
  {
   "cell_type": "code",
   "execution_count": 4,
   "id": "ff0086ba",
   "metadata": {},
   "outputs": [],
   "source": [
    "fastas_below_150 = '../fastas_below_150'\n",
    "fastas_150_250 = '../fastas_150_250'\n",
    "fastas_250_350 = '../fastas_250_350'\n",
    "fastas_350_500 = '../fastas_350_500'\n",
    "\n",
    "Path(fastas_below_150).mkdir(parents=True, exist_ok=True)\n",
    "Path(fastas_150_250).mkdir(parents=True, exist_ok=True)\n",
    "Path(fastas_250_350).mkdir(parents=True, exist_ok=True)\n",
    "Path(fastas_350_500).mkdir(parents=True, exist_ok=True)"
   ]
  },
  {
   "cell_type": "code",
   "execution_count": 14,
   "id": "d15f799b",
   "metadata": {},
   "outputs": [],
   "source": [
    "for file in glob.glob('*.fasta'):\n",
    "    with open(file, 'r') as f:\n",
    "        lines = f.readlines()\n",
    "    seq = lines[1].strip()\n",
    "    l = len(seq)\n",
    "    if l < 150:\n",
    "        shutil.copyfile(file, os.path.join(fastas_below_150, file))\n",
    "    elif (l >= 150) and (l < 250):\n",
    "        shutil.copyfile(file, os.path.join(fastas_150_250, file))\n",
    "    elif (l >= 250) and (l < 350):\n",
    "        shutil.copyfile(file, os.path.join(fastas_250_350, file))\n",
    "    elif (l >= 350) and (l < 500):\n",
    "        shutil.copyfile(file, os.path.join(fastas_350_500, file))"
   ]
  },
  {
   "cell_type": "code",
   "execution_count": null,
   "id": "ab1f91ed",
   "metadata": {},
   "outputs": [],
   "source": [
    "%cd data/deepfri_ec/val/fastas/"
   ]
  },
  {
   "cell_type": "code",
   "execution_count": 7,
   "id": "31d26258",
   "metadata": {},
   "outputs": [],
   "source": [
    "fastas_below_150 = '../fastas_below_150'\n",
    "fastas_above_150 = '../fastas_above_150'\n",
    "\n",
    "Path(fastas_below_150).mkdir(parents=True, exist_ok=True)\n",
    "Path(fastas_above_150).mkdir(parents=True, exist_ok=True)"
   ]
  },
  {
   "cell_type": "code",
   "execution_count": 8,
   "id": "052c5d00",
   "metadata": {},
   "outputs": [],
   "source": [
    "for file in glob.glob('*.fasta'):\n",
    "    with open(file, 'r') as f:\n",
    "        lines = f.readlines()\n",
    "    seq = lines[1].strip()\n",
    "    l = len(seq)\n",
    "    if l < 150:\n",
    "        shutil.copyfile(file, os.path.join(fastas_below_150, file))\n",
    "    else:\n",
    "        shutil.copyfile(file, os.path.join(fastas_above_150, file))"
   ]
  },
  {
   "cell_type": "code",
   "execution_count": null,
   "id": "88ecbc78",
   "metadata": {},
   "outputs": [],
   "source": []
  }
 ],
 "metadata": {
  "kernelspec": {
   "display_name": "Python 3 (ipykernel)",
   "language": "python",
   "name": "python3"
  },
  "language_info": {
   "codemirror_mode": {
    "name": "ipython",
    "version": 3
   },
   "file_extension": ".py",
   "mimetype": "text/x-python",
   "name": "python",
   "nbconvert_exporter": "python",
   "pygments_lexer": "ipython3",
   "version": "3.7.12"
  }
 },
 "nbformat": 4,
 "nbformat_minor": 5
}
