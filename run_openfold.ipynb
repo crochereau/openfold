{
 "cells": [
  {
   "cell_type": "markdown",
   "id": "54c34984",
   "metadata": {},
   "source": [
    "### Get AF2 embeddings of 'single' representations"
   ]
  },
  {
   "cell_type": "markdown",
   "id": "357fc10b",
   "metadata": {},
   "source": [
    "3/28/2022: 181297 cif files in /data/ga122/alphafold/pdb_mmcif/mmcif_files/"
   ]
  },
  {
   "cell_type": "markdown",
   "id": "556b3e1c",
   "metadata": {},
   "source": [
    "### EC dataset"
   ]
  },
  {
   "cell_type": "markdown",
   "id": "08de17f0",
   "metadata": {},
   "source": [
    "Started at around 4pm on 3/28/22."
   ]
  },
  {
   "cell_type": "code",
   "execution_count": null,
   "id": "a527c64e",
   "metadata": {},
   "outputs": [],
   "source": [
    "%%bash\n",
    "python3 run_pretrained_openfold.py  --fasta_path data/deepfri_ec/train/fastas_below_150/ --template_mmcif_dir ../../ga122/alphafold/pdb_mmcif/mmcif_files/ --use_precomputed_alignments data/deepfri_ec/train/alignments/ --output_dir data/deepfri_ec/train/outputs/ --model_device \"cuda:1\" --model_name \"model_1\" --param_path ../../ga122/alphafold/params/params_model_1.npz\n",
    " "
   ]
  },
  {
   "cell_type": "code",
   "execution_count": null,
   "id": "5ebcd43a",
   "metadata": {},
   "outputs": [],
   "source": [
    "%%bash\n",
    "python3 run_pretrained_openfold.py\n",
    "python3 run_pretrained_openfold.py  --fasta_path data/deepfri_ec/val/fastas_below_150/ --template_mmcif_dir ../../ga122/alphafold/pdb_mmcif/mmcif_files/ --use_precomputed_alignments data/deepfri_ec/val/alignments/ --output_dir data/deepfri_ec/val/outputs/ --model_device \"cuda:1\" --model_name \"model_1\" --param_path ../../ga122/alphafold/params/params_model_1.npz\n",
    "    "
   ]
  },
  {
   "cell_type": "code",
   "execution_count": null,
   "id": "29c22b9f",
   "metadata": {},
   "outputs": [],
   "source": [
    "%%bash\n",
    "python3 run_pretrained_openfold.py\n",
    "python3 run_pretrained_openfold.py  --fasta_path data/deepfri_ec/test/fastas_below_150/ --template_mmcif_dir ../../ga122/alphafold/pdb_mmcif/mmcif_files/ --use_precomputed_alignments data/deepfri_ec/test/alignments/ --output_dir data/deepfri_ec/test/outputs/ --model_device \"cuda:1\" --model_name \"model_1\" --param_path ../../ga122/alphafold/params/params_model_1.npz\n",
    "    "
   ]
  }
 ],
 "metadata": {
  "kernelspec": {
   "display_name": "Python 3 (ipykernel)",
   "language": "python",
   "name": "python3"
  },
  "language_info": {
   "codemirror_mode": {
    "name": "ipython",
    "version": 3
   },
   "file_extension": ".py",
   "mimetype": "text/x-python",
   "name": "python",
   "nbconvert_exporter": "python",
   "pygments_lexer": "ipython3",
   "version": "3.7.12"
  }
 },
 "nbformat": 4,
 "nbformat_minor": 5
}
